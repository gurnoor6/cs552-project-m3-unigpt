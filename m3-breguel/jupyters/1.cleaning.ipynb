{
 "cells": [
  {
   "cell_type": "code",
   "execution_count": 1,
   "metadata": {},
   "outputs": [],
   "source": [
    "import pandas as pd\n",
    "import json"
   ]
  },
  {
   "cell_type": "code",
   "execution_count": 2,
   "metadata": {},
   "outputs": [],
   "source": [
    "with open(\"interactions_v1.json\") as json_file:\n",
    "    data = json.load(json_file)"
   ]
  },
  {
   "cell_type": "code",
   "execution_count": 5,
   "metadata": {},
   "outputs": [
    {
     "data": {
      "text/html": [
       "<div>\n",
       "<style scoped>\n",
       "    .dataframe tbody tr th:only-of-type {\n",
       "        vertical-align: middle;\n",
       "    }\n",
       "\n",
       "    .dataframe tbody tr th {\n",
       "        vertical-align: top;\n",
       "    }\n",
       "\n",
       "    .dataframe thead th {\n",
       "        text-align: right;\n",
       "    }\n",
       "</style>\n",
       "<table border=\"1\" class=\"dataframe\">\n",
       "  <thead>\n",
       "    <tr style=\"text-align: right;\">\n",
       "      <th></th>\n",
       "      <th>confidence</th>\n",
       "      <th>interaction</th>\n",
       "      <th>sol_id</th>\n",
       "      <th>interaction_id</th>\n",
       "      <th>choices</th>\n",
       "      <th>question</th>\n",
       "      <th>display_name</th>\n",
       "      <th>name</th>\n",
       "      <th>created_at</th>\n",
       "      <th>model_type</th>\n",
       "      <th>instruction_prefix</th>\n",
       "      <th>user_prefix</th>\n",
       "      <th>assistant_prefix</th>\n",
       "      <th>is_open</th>\n",
       "      <th>prediction</th>\n",
       "      <th>prompt</th>\n",
       "      <th>instruction</th>\n",
       "    </tr>\n",
       "  </thead>\n",
       "  <tbody>\n",
       "    <tr>\n",
       "      <th>0</th>\n",
       "      <td>4</td>\n",
       "      <td>[{'role': 'system', 'content': 'Give a best ap...</td>\n",
       "      <td>1693719</td>\n",
       "      <td>4399371</td>\n",
       "      <td>NaN</td>\n",
       "      <td>NaN</td>\n",
       "      <td>NaN</td>\n",
       "      <td>NaN</td>\n",
       "      <td>NaN</td>\n",
       "      <td>NaN</td>\n",
       "      <td>NaN</td>\n",
       "      <td>NaN</td>\n",
       "      <td>NaN</td>\n",
       "      <td>NaN</td>\n",
       "      <td>NaN</td>\n",
       "      <td>NaN</td>\n",
       "      <td>NaN</td>\n",
       "    </tr>\n",
       "    <tr>\n",
       "      <th>1</th>\n",
       "      <td>5</td>\n",
       "      <td>[{'role': 'system', 'content': 'The context is...</td>\n",
       "      <td>2001870</td>\n",
       "      <td>4768577</td>\n",
       "      <td>NaN</td>\n",
       "      <td>NaN</td>\n",
       "      <td>NaN</td>\n",
       "      <td>NaN</td>\n",
       "      <td>NaN</td>\n",
       "      <td>NaN</td>\n",
       "      <td>NaN</td>\n",
       "      <td>NaN</td>\n",
       "      <td>NaN</td>\n",
       "      <td>NaN</td>\n",
       "      <td>NaN</td>\n",
       "      <td>NaN</td>\n",
       "      <td>NaN</td>\n",
       "    </tr>\n",
       "    <tr>\n",
       "      <th>2</th>\n",
       "      <td>5</td>\n",
       "      <td>[{'role': 'system', 'content': 'Explain in one...</td>\n",
       "      <td>1477066</td>\n",
       "      <td>4510626</td>\n",
       "      <td>NaN</td>\n",
       "      <td>NaN</td>\n",
       "      <td>NaN</td>\n",
       "      <td>NaN</td>\n",
       "      <td>NaN</td>\n",
       "      <td>NaN</td>\n",
       "      <td>NaN</td>\n",
       "      <td>NaN</td>\n",
       "      <td>NaN</td>\n",
       "      <td>NaN</td>\n",
       "      <td>NaN</td>\n",
       "      <td>NaN</td>\n",
       "      <td>NaN</td>\n",
       "    </tr>\n",
       "    <tr>\n",
       "      <th>3</th>\n",
       "      <td>5</td>\n",
       "      <td>[{'role': 'system', 'content': 'Explain in one...</td>\n",
       "      <td>2578719</td>\n",
       "      <td>4085955</td>\n",
       "      <td>NaN</td>\n",
       "      <td>NaN</td>\n",
       "      <td>NaN</td>\n",
       "      <td>NaN</td>\n",
       "      <td>NaN</td>\n",
       "      <td>NaN</td>\n",
       "      <td>NaN</td>\n",
       "      <td>NaN</td>\n",
       "      <td>NaN</td>\n",
       "      <td>NaN</td>\n",
       "      <td>NaN</td>\n",
       "      <td>NaN</td>\n",
       "      <td>NaN</td>\n",
       "    </tr>\n",
       "    <tr>\n",
       "      <th>4</th>\n",
       "      <td>5</td>\n",
       "      <td>[{'role': 'system', 'content': 'The context is...</td>\n",
       "      <td>1095453</td>\n",
       "      <td>4146802</td>\n",
       "      <td>NaN</td>\n",
       "      <td>NaN</td>\n",
       "      <td>NaN</td>\n",
       "      <td>NaN</td>\n",
       "      <td>NaN</td>\n",
       "      <td>NaN</td>\n",
       "      <td>NaN</td>\n",
       "      <td>NaN</td>\n",
       "      <td>NaN</td>\n",
       "      <td>NaN</td>\n",
       "      <td>NaN</td>\n",
       "      <td>NaN</td>\n",
       "      <td>NaN</td>\n",
       "    </tr>\n",
       "  </tbody>\n",
       "</table>\n",
       "</div>"
      ],
      "text/plain": [
       "   confidence                                        interaction   sol_id   \n",
       "0           4  [{'role': 'system', 'content': 'Give a best ap...  1693719  \\\n",
       "1           5  [{'role': 'system', 'content': 'The context is...  2001870   \n",
       "2           5  [{'role': 'system', 'content': 'Explain in one...  1477066   \n",
       "3           5  [{'role': 'system', 'content': 'Explain in one...  2578719   \n",
       "4           5  [{'role': 'system', 'content': 'The context is...  1095453   \n",
       "\n",
       "   interaction_id choices question display_name name created_at model_type   \n",
       "0         4399371     NaN      NaN          NaN  NaN        NaN        NaN  \\\n",
       "1         4768577     NaN      NaN          NaN  NaN        NaN        NaN   \n",
       "2         4510626     NaN      NaN          NaN  NaN        NaN        NaN   \n",
       "3         4085955     NaN      NaN          NaN  NaN        NaN        NaN   \n",
       "4         4146802     NaN      NaN          NaN  NaN        NaN        NaN   \n",
       "\n",
       "  instruction_prefix user_prefix assistant_prefix is_open prediction prompt   \n",
       "0                NaN         NaN              NaN     NaN        NaN    NaN  \\\n",
       "1                NaN         NaN              NaN     NaN        NaN    NaN   \n",
       "2                NaN         NaN              NaN     NaN        NaN    NaN   \n",
       "3                NaN         NaN              NaN     NaN        NaN    NaN   \n",
       "4                NaN         NaN              NaN     NaN        NaN    NaN   \n",
       "\n",
       "  instruction  \n",
       "0         NaN  \n",
       "1         NaN  \n",
       "2         NaN  \n",
       "3         NaN  \n",
       "4         NaN  "
      ]
     },
     "execution_count": 5,
     "metadata": {},
     "output_type": "execute_result"
    }
   ],
   "source": [
    "df = pd.DataFrame(data)\n",
    "df.head()"
   ]
  },
  {
   "attachments": {},
   "cell_type": "markdown",
   "metadata": {},
   "source": [
    "## Cleaning\n",
    "\n",
    "\n",
    "Valid scores"
   ]
  },
  {
   "cell_type": "code",
   "execution_count": 4,
   "metadata": {},
   "outputs": [],
   "source": [
    "# take only on a valid range of confidence\n",
    "df = df[(df[\"confidence\"] < 6) & (df[\"confidence\"] >= 0)]"
   ]
  },
  {
   "attachments": {},
   "cell_type": "markdown",
   "metadata": {},
   "source": [
    "Remove duplicates rows"
   ]
  },
  {
   "cell_type": "code",
   "execution_count": 5,
   "metadata": {},
   "outputs": [],
   "source": [
    "df = df.drop_duplicates(subset=[\"interaction\"])"
   ]
  },
  {
   "attachments": {},
   "cell_type": "markdown",
   "metadata": {},
   "source": [
    "# Analysis"
   ]
  },
  {
   "attachments": {},
   "cell_type": "markdown",
   "metadata": {},
   "source": [
    "- Amount of NaN values in each column"
   ]
  },
  {
   "cell_type": "code",
   "execution_count": 6,
   "metadata": {},
   "outputs": [
    {
     "name": "stdout",
     "output_type": "stream",
     "text": [
      "confidence                0\n",
      "interaction               0\n",
      "sol_id                    0\n",
      "interaction_id            0\n",
      "choices                9962\n",
      "question               9804\n",
      "display_name          10431\n",
      "name                  10396\n",
      "created_at            10477\n",
      "model_type            10477\n",
      "instruction_prefix    10477\n",
      "user_prefix           10477\n",
      "assistant_prefix      10477\n",
      "is_open               10469\n",
      "prediction            10469\n",
      "prompt                10468\n",
      "instruction           10468\n",
      "dtype: int64\n"
     ]
    },
    {
     "data": {
      "text/plain": [
       "10560"
      ]
     },
     "execution_count": 6,
     "metadata": {},
     "output_type": "execute_result"
    }
   ],
   "source": [
    "nan_values_per_column = df.isna().sum()\n",
    "print(nan_values_per_column)\n",
    "len(df)"
   ]
  },
  {
   "attachments": {},
   "cell_type": "markdown",
   "metadata": {},
   "source": [
    "### df_new\n",
    "\n",
    "Intermediate dataframe to fix wrong rows\n"
   ]
  },
  {
   "attachments": {},
   "cell_type": "markdown",
   "metadata": {},
   "source": [
    "1. We remove created_at, display_name, name, model_type. Because after an analysis we notice that these 4 columns doesn't give util information\n",
    "2. Generate a new dataFrame with the rows with at least 1 Non NaN value"
   ]
  },
  {
   "cell_type": "code",
   "execution_count": 7,
   "metadata": {},
   "outputs": [
    {
     "name": "stdout",
     "output_type": "stream",
     "text": [
      "887\n"
     ]
    },
    {
     "data": {
      "text/html": [
       "<div>\n",
       "<style scoped>\n",
       "    .dataframe tbody tr th:only-of-type {\n",
       "        vertical-align: middle;\n",
       "    }\n",
       "\n",
       "    .dataframe tbody tr th {\n",
       "        vertical-align: top;\n",
       "    }\n",
       "\n",
       "    .dataframe thead th {\n",
       "        text-align: right;\n",
       "    }\n",
       "</style>\n",
       "<table border=\"1\" class=\"dataframe\">\n",
       "  <thead>\n",
       "    <tr style=\"text-align: right;\">\n",
       "      <th></th>\n",
       "      <th>confidence</th>\n",
       "      <th>interaction</th>\n",
       "      <th>sol_id</th>\n",
       "      <th>interaction_id</th>\n",
       "      <th>choices</th>\n",
       "      <th>question</th>\n",
       "      <th>instruction_prefix</th>\n",
       "      <th>user_prefix</th>\n",
       "      <th>assistant_prefix</th>\n",
       "      <th>is_open</th>\n",
       "      <th>prediction</th>\n",
       "      <th>prompt</th>\n",
       "      <th>instruction</th>\n",
       "    </tr>\n",
       "  </thead>\n",
       "  <tbody>\n",
       "    <tr>\n",
       "      <th>1434</th>\n",
       "      <td>4</td>\n",
       "      <td>[{'role': 'system', 'content': 'You are an AI ...</td>\n",
       "      <td>1400772</td>\n",
       "      <td>4634059</td>\n",
       "      <td>[Because the neurotransmitter receptors are se...</td>\n",
       "      <td>Why is the synaptic conductance depending on t...</td>\n",
       "      <td>NaN</td>\n",
       "      <td>NaN</td>\n",
       "      <td>NaN</td>\n",
       "      <td>NaN</td>\n",
       "      <td>NaN</td>\n",
       "      <td>NaN</td>\n",
       "      <td>NaN</td>\n",
       "    </tr>\n",
       "    <tr>\n",
       "      <th>1435</th>\n",
       "      <td>2</td>\n",
       "      <td>[{'role': 'system', 'content': 'You are an AI ...</td>\n",
       "      <td>2263436</td>\n",
       "      <td>4939525</td>\n",
       "      <td>[IR-DIC requires stained tissue, IR-DIC allow ...</td>\n",
       "      <td>Which of the following statements are correct?</td>\n",
       "      <td>NaN</td>\n",
       "      <td>NaN</td>\n",
       "      <td>NaN</td>\n",
       "      <td>NaN</td>\n",
       "      <td>NaN</td>\n",
       "      <td>NaN</td>\n",
       "      <td>NaN</td>\n",
       "    </tr>\n",
       "    <tr>\n",
       "      <th>1436</th>\n",
       "      <td>5</td>\n",
       "      <td>[{'role': 'system', 'content': 'You are an AI ...</td>\n",
       "      <td>2378047</td>\n",
       "      <td>4265641</td>\n",
       "      <td>[Because literature contains valuable yet unst...</td>\n",
       "      <td>Why do projects like the Blue Brain Project us...</td>\n",
       "      <td>NaN</td>\n",
       "      <td>NaN</td>\n",
       "      <td>NaN</td>\n",
       "      <td>NaN</td>\n",
       "      <td>NaN</td>\n",
       "      <td>NaN</td>\n",
       "      <td>NaN</td>\n",
       "    </tr>\n",
       "    <tr>\n",
       "      <th>1437</th>\n",
       "      <td>4</td>\n",
       "      <td>[{'role': 'system', 'content': 'You are an AI ...</td>\n",
       "      <td>2317550</td>\n",
       "      <td>4308877</td>\n",
       "      <td>[Infer the parameters from other (related) and...</td>\n",
       "      <td>Which of the following options (4) can you cho...</td>\n",
       "      <td>NaN</td>\n",
       "      <td>NaN</td>\n",
       "      <td>NaN</td>\n",
       "      <td>NaN</td>\n",
       "      <td>NaN</td>\n",
       "      <td>NaN</td>\n",
       "      <td>NaN</td>\n",
       "    </tr>\n",
       "    <tr>\n",
       "      <th>1438</th>\n",
       "      <td>4</td>\n",
       "      <td>[{'role': 'system', 'content': 'You are an AI ...</td>\n",
       "      <td>1673629</td>\n",
       "      <td>4489638</td>\n",
       "      <td>[Voltage difference between the inside of the ...</td>\n",
       "      <td>What did Hodgkin and Huxley record in the firs...</td>\n",
       "      <td>NaN</td>\n",
       "      <td>NaN</td>\n",
       "      <td>NaN</td>\n",
       "      <td>NaN</td>\n",
       "      <td>NaN</td>\n",
       "      <td>NaN</td>\n",
       "      <td>NaN</td>\n",
       "    </tr>\n",
       "  </tbody>\n",
       "</table>\n",
       "</div>"
      ],
      "text/plain": [
       "      confidence                                        interaction   sol_id   \n",
       "1434           4  [{'role': 'system', 'content': 'You are an AI ...  1400772  \\\n",
       "1435           2  [{'role': 'system', 'content': 'You are an AI ...  2263436   \n",
       "1436           5  [{'role': 'system', 'content': 'You are an AI ...  2378047   \n",
       "1437           4  [{'role': 'system', 'content': 'You are an AI ...  2317550   \n",
       "1438           4  [{'role': 'system', 'content': 'You are an AI ...  1673629   \n",
       "\n",
       "      interaction_id                                            choices   \n",
       "1434         4634059  [Because the neurotransmitter receptors are se...  \\\n",
       "1435         4939525  [IR-DIC requires stained tissue, IR-DIC allow ...   \n",
       "1436         4265641  [Because literature contains valuable yet unst...   \n",
       "1437         4308877  [Infer the parameters from other (related) and...   \n",
       "1438         4489638  [Voltage difference between the inside of the ...   \n",
       "\n",
       "                                               question instruction_prefix   \n",
       "1434  Why is the synaptic conductance depending on t...                NaN  \\\n",
       "1435     Which of the following statements are correct?                NaN   \n",
       "1436  Why do projects like the Blue Brain Project us...                NaN   \n",
       "1437  Which of the following options (4) can you cho...                NaN   \n",
       "1438  What did Hodgkin and Huxley record in the firs...                NaN   \n",
       "\n",
       "     user_prefix assistant_prefix is_open prediction prompt instruction  \n",
       "1434         NaN              NaN     NaN        NaN    NaN         NaN  \n",
       "1435         NaN              NaN     NaN        NaN    NaN         NaN  \n",
       "1436         NaN              NaN     NaN        NaN    NaN         NaN  \n",
       "1437         NaN              NaN     NaN        NaN    NaN         NaN  \n",
       "1438         NaN              NaN     NaN        NaN    NaN         NaN  "
      ]
     },
     "execution_count": 7,
     "metadata": {},
     "output_type": "execute_result"
    }
   ],
   "source": [
    "df_new = df.drop([\"display_name\", \"name\", \"created_at\", \"model_type\"], axis=1)\n",
    "columns = [\n",
    "    \"choices\",\n",
    "    \"question\",\n",
    "    \"instruction_prefix\",\n",
    "    \"user_prefix\",\n",
    "    \"is_open\",\n",
    "    \"assistant_prefix\",\n",
    "    \"prediction\",\n",
    "    \"prompt\",\n",
    "    \"instruction\",\n",
    "]\n",
    "df_new = df_new.dropna(subset=columns, how=\"all\")\n",
    "print(len(df_new))\n",
    "df_new.head()"
   ]
  },
  {
   "attachments": {},
   "cell_type": "markdown",
   "metadata": {},
   "source": [
    "### df_initial\n",
    "\n",
    "we obtain the dataset of the initial data without nan_values"
   ]
  },
  {
   "cell_type": "code",
   "execution_count": 8,
   "metadata": {},
   "outputs": [
    {
     "name": "stdout",
     "output_type": "stream",
     "text": [
      "len of : 9673\n"
     ]
    },
    {
     "data": {
      "text/html": [
       "<div>\n",
       "<style scoped>\n",
       "    .dataframe tbody tr th:only-of-type {\n",
       "        vertical-align: middle;\n",
       "    }\n",
       "\n",
       "    .dataframe tbody tr th {\n",
       "        vertical-align: top;\n",
       "    }\n",
       "\n",
       "    .dataframe thead th {\n",
       "        text-align: right;\n",
       "    }\n",
       "</style>\n",
       "<table border=\"1\" class=\"dataframe\">\n",
       "  <thead>\n",
       "    <tr style=\"text-align: right;\">\n",
       "      <th></th>\n",
       "      <th>confidence</th>\n",
       "      <th>interaction</th>\n",
       "      <th>sol_id</th>\n",
       "      <th>interaction_id</th>\n",
       "      <th>choices</th>\n",
       "      <th>question</th>\n",
       "      <th>display_name</th>\n",
       "      <th>name</th>\n",
       "      <th>created_at</th>\n",
       "      <th>model_type</th>\n",
       "      <th>instruction_prefix</th>\n",
       "      <th>user_prefix</th>\n",
       "      <th>assistant_prefix</th>\n",
       "      <th>is_open</th>\n",
       "      <th>prediction</th>\n",
       "      <th>prompt</th>\n",
       "      <th>instruction</th>\n",
       "    </tr>\n",
       "  </thead>\n",
       "  <tbody>\n",
       "    <tr>\n",
       "      <th>0</th>\n",
       "      <td>4</td>\n",
       "      <td>[{'role': 'system', 'content': 'Give a best ap...</td>\n",
       "      <td>1693719</td>\n",
       "      <td>4399371</td>\n",
       "      <td>NaN</td>\n",
       "      <td>NaN</td>\n",
       "      <td>NaN</td>\n",
       "      <td>NaN</td>\n",
       "      <td>NaN</td>\n",
       "      <td>NaN</td>\n",
       "      <td>NaN</td>\n",
       "      <td>NaN</td>\n",
       "      <td>NaN</td>\n",
       "      <td>NaN</td>\n",
       "      <td>NaN</td>\n",
       "      <td>NaN</td>\n",
       "      <td>NaN</td>\n",
       "    </tr>\n",
       "    <tr>\n",
       "      <th>1</th>\n",
       "      <td>5</td>\n",
       "      <td>[{'role': 'system', 'content': 'The context is...</td>\n",
       "      <td>2001870</td>\n",
       "      <td>4768577</td>\n",
       "      <td>NaN</td>\n",
       "      <td>NaN</td>\n",
       "      <td>NaN</td>\n",
       "      <td>NaN</td>\n",
       "      <td>NaN</td>\n",
       "      <td>NaN</td>\n",
       "      <td>NaN</td>\n",
       "      <td>NaN</td>\n",
       "      <td>NaN</td>\n",
       "      <td>NaN</td>\n",
       "      <td>NaN</td>\n",
       "      <td>NaN</td>\n",
       "      <td>NaN</td>\n",
       "    </tr>\n",
       "    <tr>\n",
       "      <th>2</th>\n",
       "      <td>5</td>\n",
       "      <td>[{'role': 'system', 'content': 'Explain in one...</td>\n",
       "      <td>1477066</td>\n",
       "      <td>4510626</td>\n",
       "      <td>NaN</td>\n",
       "      <td>NaN</td>\n",
       "      <td>NaN</td>\n",
       "      <td>NaN</td>\n",
       "      <td>NaN</td>\n",
       "      <td>NaN</td>\n",
       "      <td>NaN</td>\n",
       "      <td>NaN</td>\n",
       "      <td>NaN</td>\n",
       "      <td>NaN</td>\n",
       "      <td>NaN</td>\n",
       "      <td>NaN</td>\n",
       "      <td>NaN</td>\n",
       "    </tr>\n",
       "    <tr>\n",
       "      <th>3</th>\n",
       "      <td>5</td>\n",
       "      <td>[{'role': 'system', 'content': 'Explain in one...</td>\n",
       "      <td>2578719</td>\n",
       "      <td>4085955</td>\n",
       "      <td>NaN</td>\n",
       "      <td>NaN</td>\n",
       "      <td>NaN</td>\n",
       "      <td>NaN</td>\n",
       "      <td>NaN</td>\n",
       "      <td>NaN</td>\n",
       "      <td>NaN</td>\n",
       "      <td>NaN</td>\n",
       "      <td>NaN</td>\n",
       "      <td>NaN</td>\n",
       "      <td>NaN</td>\n",
       "      <td>NaN</td>\n",
       "      <td>NaN</td>\n",
       "    </tr>\n",
       "    <tr>\n",
       "      <th>4</th>\n",
       "      <td>5</td>\n",
       "      <td>[{'role': 'system', 'content': 'The context is...</td>\n",
       "      <td>1095453</td>\n",
       "      <td>4146802</td>\n",
       "      <td>NaN</td>\n",
       "      <td>NaN</td>\n",
       "      <td>NaN</td>\n",
       "      <td>NaN</td>\n",
       "      <td>NaN</td>\n",
       "      <td>NaN</td>\n",
       "      <td>NaN</td>\n",
       "      <td>NaN</td>\n",
       "      <td>NaN</td>\n",
       "      <td>NaN</td>\n",
       "      <td>NaN</td>\n",
       "      <td>NaN</td>\n",
       "      <td>NaN</td>\n",
       "    </tr>\n",
       "  </tbody>\n",
       "</table>\n",
       "</div>"
      ],
      "text/plain": [
       "   confidence                                        interaction   sol_id   \n",
       "0           4  [{'role': 'system', 'content': 'Give a best ap...  1693719  \\\n",
       "1           5  [{'role': 'system', 'content': 'The context is...  2001870   \n",
       "2           5  [{'role': 'system', 'content': 'Explain in one...  1477066   \n",
       "3           5  [{'role': 'system', 'content': 'Explain in one...  2578719   \n",
       "4           5  [{'role': 'system', 'content': 'The context is...  1095453   \n",
       "\n",
       "   interaction_id choices question display_name name created_at model_type   \n",
       "0         4399371     NaN      NaN          NaN  NaN        NaN        NaN  \\\n",
       "1         4768577     NaN      NaN          NaN  NaN        NaN        NaN   \n",
       "2         4510626     NaN      NaN          NaN  NaN        NaN        NaN   \n",
       "3         4085955     NaN      NaN          NaN  NaN        NaN        NaN   \n",
       "4         4146802     NaN      NaN          NaN  NaN        NaN        NaN   \n",
       "\n",
       "  instruction_prefix user_prefix assistant_prefix is_open prediction prompt   \n",
       "0                NaN         NaN              NaN     NaN        NaN    NaN  \\\n",
       "1                NaN         NaN              NaN     NaN        NaN    NaN   \n",
       "2                NaN         NaN              NaN     NaN        NaN    NaN   \n",
       "3                NaN         NaN              NaN     NaN        NaN    NaN   \n",
       "4                NaN         NaN              NaN     NaN        NaN    NaN   \n",
       "\n",
       "  instruction  \n",
       "0         NaN  \n",
       "1         NaN  \n",
       "2         NaN  \n",
       "3         NaN  \n",
       "4         NaN  "
      ]
     },
     "execution_count": 8,
     "metadata": {},
     "output_type": "execute_result"
    }
   ],
   "source": [
    "# match the ones that are on df but not on df_new\n",
    "indexes_to_delete = df_new.index.tolist()\n",
    "df_initial = df.drop(indexes_to_delete, axis=0)\n",
    "print(\"len of :\", len(df_initial))\n",
    "df_initial.head()"
   ]
  },
  {
   "attachments": {},
   "cell_type": "markdown",
   "metadata": {},
   "source": [
    "## NaN values analysis"
   ]
  },
  {
   "attachments": {},
   "cell_type": "markdown",
   "metadata": {},
   "source": [
    "### 1. Choices Column"
   ]
  },
  {
   "cell_type": "code",
   "execution_count": 9,
   "metadata": {},
   "outputs": [
    {
     "name": "stdout",
     "output_type": "stream",
     "text": [
      "confidence              0\n",
      "interaction             0\n",
      "sol_id                  0\n",
      "interaction_id          0\n",
      "choices                 0\n",
      "question               48\n",
      "instruction_prefix    598\n",
      "user_prefix           598\n",
      "assistant_prefix      598\n",
      "is_open               507\n",
      "prediction            507\n",
      "prompt                531\n",
      "instruction           531\n",
      "dtype: int64\n"
     ]
    },
    {
     "data": {
      "text/plain": [
       "598"
      ]
     },
     "execution_count": 9,
     "metadata": {},
     "output_type": "execute_result"
    }
   ],
   "source": [
    "df_without_nan = df_new.dropna(subset=[\"choices\"])\n",
    "nan_values_per_column = df_without_nan.isna().sum()\n",
    "print(nan_values_per_column)\n",
    "len(df_without_nan)"
   ]
  },
  {
   "attachments": {},
   "cell_type": "markdown",
   "metadata": {},
   "source": [
    "#### 2. Question Column"
   ]
  },
  {
   "cell_type": "code",
   "execution_count": 10,
   "metadata": {},
   "outputs": [
    {
     "name": "stdout",
     "output_type": "stream",
     "text": [
      "confidence              0\n",
      "interaction             0\n",
      "sol_id                  0\n",
      "interaction_id          0\n",
      "choices               206\n",
      "question                0\n",
      "instruction_prefix    756\n",
      "user_prefix           756\n",
      "assistant_prefix      756\n",
      "is_open               665\n",
      "prediction            665\n",
      "prompt                664\n",
      "instruction           664\n",
      "dtype: int64\n"
     ]
    },
    {
     "data": {
      "text/plain": [
       "756"
      ]
     },
     "execution_count": 10,
     "metadata": {},
     "output_type": "execute_result"
    }
   ],
   "source": [
    "df_without_nan = df_new.dropna(subset=[\"question\"])\n",
    "nan_values_per_column = df_without_nan.isna().sum()\n",
    "print(nan_values_per_column)\n",
    "len(df_without_nan)"
   ]
  },
  {
   "attachments": {},
   "cell_type": "markdown",
   "metadata": {},
   "source": [
    "#### 3. Instruction prefix Column"
   ]
  },
  {
   "cell_type": "code",
   "execution_count": 11,
   "metadata": {},
   "outputs": [
    {
     "name": "stdout",
     "output_type": "stream",
     "text": [
      "confidence             0\n",
      "interaction            0\n",
      "sol_id                 0\n",
      "interaction_id         0\n",
      "choices               83\n",
      "question              83\n",
      "instruction_prefix     0\n",
      "user_prefix            0\n",
      "assistant_prefix       0\n",
      "is_open               83\n",
      "prediction            83\n",
      "prompt                83\n",
      "instruction           83\n",
      "dtype: int64\n"
     ]
    },
    {
     "data": {
      "text/plain": [
       "83"
      ]
     },
     "execution_count": 11,
     "metadata": {},
     "output_type": "execute_result"
    }
   ],
   "source": [
    "df_without_nan = df_new.dropna(subset=[\"instruction_prefix\"])\n",
    "nan_values_per_column = df_without_nan.isna().sum()\n",
    "print(nan_values_per_column)\n",
    "len(df_without_nan)"
   ]
  },
  {
   "attachments": {},
   "cell_type": "markdown",
   "metadata": {},
   "source": [
    "#### 4. User prefix Column"
   ]
  },
  {
   "cell_type": "code",
   "execution_count": 12,
   "metadata": {},
   "outputs": [
    {
     "name": "stdout",
     "output_type": "stream",
     "text": [
      "confidence             0\n",
      "interaction            0\n",
      "sol_id                 0\n",
      "interaction_id         0\n",
      "choices               83\n",
      "question              83\n",
      "instruction_prefix     0\n",
      "user_prefix            0\n",
      "assistant_prefix       0\n",
      "is_open               83\n",
      "prediction            83\n",
      "prompt                83\n",
      "instruction           83\n",
      "dtype: int64\n"
     ]
    },
    {
     "data": {
      "text/plain": [
       "83"
      ]
     },
     "execution_count": 12,
     "metadata": {},
     "output_type": "execute_result"
    }
   ],
   "source": [
    "df_without_nan = df_new.dropna(subset=[\"user_prefix\"])\n",
    "nan_values_per_column = df_without_nan.isna().sum()\n",
    "print(nan_values_per_column)\n",
    "len(df_without_nan)"
   ]
  },
  {
   "attachments": {},
   "cell_type": "markdown",
   "metadata": {},
   "source": [
    "#### 5. Assistant Prefix Column"
   ]
  },
  {
   "cell_type": "code",
   "execution_count": 13,
   "metadata": {},
   "outputs": [
    {
     "name": "stdout",
     "output_type": "stream",
     "text": [
      "confidence             0\n",
      "interaction            0\n",
      "sol_id                 0\n",
      "interaction_id         0\n",
      "choices               83\n",
      "question              83\n",
      "instruction_prefix     0\n",
      "user_prefix            0\n",
      "assistant_prefix       0\n",
      "is_open               83\n",
      "prediction            83\n",
      "prompt                83\n",
      "instruction           83\n",
      "dtype: int64\n"
     ]
    },
    {
     "data": {
      "text/plain": [
       "83"
      ]
     },
     "execution_count": 13,
     "metadata": {},
     "output_type": "execute_result"
    }
   ],
   "source": [
    "df_without_nan = df_new.dropna(subset=[\"assistant_prefix\"])\n",
    "nan_values_per_column = df_without_nan.isna().sum()\n",
    "print(nan_values_per_column)\n",
    "len(df_without_nan)"
   ]
  },
  {
   "attachments": {},
   "cell_type": "markdown",
   "metadata": {},
   "source": [
    "#### 6. Prompt column"
   ]
  },
  {
   "cell_type": "code",
   "execution_count": 14,
   "metadata": {},
   "outputs": [
    {
     "name": "stdout",
     "output_type": "stream",
     "text": [
      "confidence             0\n",
      "interaction            0\n",
      "sol_id                 0\n",
      "interaction_id         0\n",
      "choices               25\n",
      "question               0\n",
      "instruction_prefix    92\n",
      "user_prefix           92\n",
      "assistant_prefix      92\n",
      "is_open               92\n",
      "prediction            92\n",
      "prompt                 0\n",
      "instruction            0\n",
      "dtype: int64\n"
     ]
    },
    {
     "data": {
      "text/plain": [
       "92"
      ]
     },
     "execution_count": 14,
     "metadata": {},
     "output_type": "execute_result"
    }
   ],
   "source": [
    "df_without_nan = df_new.dropna(subset=[\"prompt\"])\n",
    "nan_values_per_column = df_without_nan.isna().sum()\n",
    "print(nan_values_per_column)\n",
    "len(df_without_nan)"
   ]
  },
  {
   "attachments": {},
   "cell_type": "markdown",
   "metadata": {},
   "source": [
    "#### 7. Instruction Column"
   ]
  },
  {
   "cell_type": "code",
   "execution_count": 15,
   "metadata": {},
   "outputs": [
    {
     "name": "stdout",
     "output_type": "stream",
     "text": [
      "confidence             0\n",
      "interaction            0\n",
      "sol_id                 0\n",
      "interaction_id         0\n",
      "choices               25\n",
      "question               0\n",
      "instruction_prefix    92\n",
      "user_prefix           92\n",
      "assistant_prefix      92\n",
      "is_open               92\n",
      "prediction            92\n",
      "prompt                 0\n",
      "instruction            0\n",
      "dtype: int64\n"
     ]
    },
    {
     "data": {
      "text/plain": [
       "92"
      ]
     },
     "execution_count": 15,
     "metadata": {},
     "output_type": "execute_result"
    }
   ],
   "source": [
    "df_without_nan = df_new.dropna(subset=[\"instruction\"])\n",
    "nan_values_per_column = df_without_nan.isna().sum()\n",
    "print(nan_values_per_column)\n",
    "len(df_without_nan)"
   ]
  },
  {
   "attachments": {},
   "cell_type": "markdown",
   "metadata": {},
   "source": [
    "## Conclusion\n",
    "\n",
    "After an extensive analysis, we notice that there exist two main groups:"
   ]
  },
  {
   "attachments": {},
   "cell_type": "markdown",
   "metadata": {},
   "source": [
    "1. First group -> 83 rows\n",
    "   - name\n",
    "   - created_at\n",
    "   - model_type\n",
    "   - instruction_prefix\n",
    "   - user_prefix\n",
    "   - assistant_prefix"
   ]
  },
  {
   "attachments": {},
   "cell_type": "markdown",
   "metadata": {},
   "source": [
    "2. Second group ->  804 rows\n",
    "   -  choices\n",
    "   -  question\n",
    "   -  display_name\n",
    "   -  is_open\n",
    "   -  prediction\n",
    "   -  prompt\n",
    "   -  instruction   \n",
    "\n",
    "\n",
    "Now this group have three subgroups:\n",
    "\n",
    "2.1 **Instruction promtp group** -> 92 Rows\n",
    "\n",
    "In this group the user separted the interactions with the chat from the instruction of the system and the prompt\n",
    "\n",
    "2.2 **Prediction group** -> 91 Rows\n",
    "\n",
    "In this group the user separated on the first interaction, then add the choices and finally the last response\n",
    "\n",
    "2.3 **Question**"
   ]
  },
  {
   "attachments": {},
   "cell_type": "markdown",
   "metadata": {},
   "source": [
    "# Divison and new dataset"
   ]
  },
  {
   "cell_type": "code",
   "execution_count": 16,
   "metadata": {},
   "outputs": [
    {
     "data": {
      "text/plain": [
       "887"
      ]
     },
     "execution_count": 16,
     "metadata": {},
     "output_type": "execute_result"
    }
   ],
   "source": [
    "len(df_new)"
   ]
  },
  {
   "cell_type": "code",
   "execution_count": 17,
   "metadata": {},
   "outputs": [
    {
     "name": "stdout",
     "output_type": "stream",
     "text": [
      "83\n"
     ]
    },
    {
     "data": {
      "text/html": [
       "<div>\n",
       "<style scoped>\n",
       "    .dataframe tbody tr th:only-of-type {\n",
       "        vertical-align: middle;\n",
       "    }\n",
       "\n",
       "    .dataframe tbody tr th {\n",
       "        vertical-align: top;\n",
       "    }\n",
       "\n",
       "    .dataframe thead th {\n",
       "        text-align: right;\n",
       "    }\n",
       "</style>\n",
       "<table border=\"1\" class=\"dataframe\">\n",
       "  <thead>\n",
       "    <tr style=\"text-align: right;\">\n",
       "      <th></th>\n",
       "      <th>confidence</th>\n",
       "      <th>interaction</th>\n",
       "      <th>sol_id</th>\n",
       "      <th>interaction_id</th>\n",
       "      <th>instruction_prefix</th>\n",
       "      <th>user_prefix</th>\n",
       "      <th>assistant_prefix</th>\n",
       "    </tr>\n",
       "  </thead>\n",
       "  <tbody>\n",
       "    <tr>\n",
       "      <th>4354</th>\n",
       "      <td>4</td>\n",
       "      <td>[{'role': 'user', 'content': '\n",
       "Prove the given...</td>\n",
       "      <td>2414321</td>\n",
       "      <td>4304955</td>\n",
       "      <td>You are a math assistant whose main area of ex...</td>\n",
       "      <td>My request:</td>\n",
       "      <td>Let's think step by step</td>\n",
       "    </tr>\n",
       "    <tr>\n",
       "      <th>4355</th>\n",
       "      <td>3</td>\n",
       "      <td>[{'role': 'user', 'content': '\n",
       "Your task is to...</td>\n",
       "      <td>2370873</td>\n",
       "      <td>4545561</td>\n",
       "      <td>You are a math assistant whose main area of ex...</td>\n",
       "      <td>My request:</td>\n",
       "      <td>Let's think step by step</td>\n",
       "    </tr>\n",
       "    <tr>\n",
       "      <th>4356</th>\n",
       "      <td>1</td>\n",
       "      <td>[{'role': 'user', 'content': '\n",
       "Your task is to...</td>\n",
       "      <td>1501810</td>\n",
       "      <td>4454730</td>\n",
       "      <td>You are a math assistant whose main area of ex...</td>\n",
       "      <td>My request:</td>\n",
       "      <td>Let's think step by step</td>\n",
       "    </tr>\n",
       "    <tr>\n",
       "      <th>4357</th>\n",
       "      <td>5</td>\n",
       "      <td>[{'role': 'user', 'content': '\n",
       "Answer the give...</td>\n",
       "      <td>1770795</td>\n",
       "      <td>4113365</td>\n",
       "      <td>You are a math assistant whose main area of ex...</td>\n",
       "      <td>My request:</td>\n",
       "      <td>Let's think step by step</td>\n",
       "    </tr>\n",
       "    <tr>\n",
       "      <th>4358</th>\n",
       "      <td>1</td>\n",
       "      <td>[{'role': 'user', 'content': '\n",
       "Your task is to...</td>\n",
       "      <td>1568606</td>\n",
       "      <td>4121414</td>\n",
       "      <td>You are a math assistant whose main area of ex...</td>\n",
       "      <td>My request:</td>\n",
       "      <td>Let's think step by step</td>\n",
       "    </tr>\n",
       "  </tbody>\n",
       "</table>\n",
       "</div>"
      ],
      "text/plain": [
       "      confidence                                        interaction   sol_id   \n",
       "4354           4  [{'role': 'user', 'content': '\n",
       "Prove the given...  2414321  \\\n",
       "4355           3  [{'role': 'user', 'content': '\n",
       "Your task is to...  2370873   \n",
       "4356           1  [{'role': 'user', 'content': '\n",
       "Your task is to...  1501810   \n",
       "4357           5  [{'role': 'user', 'content': '\n",
       "Answer the give...  1770795   \n",
       "4358           1  [{'role': 'user', 'content': '\n",
       "Your task is to...  1568606   \n",
       "\n",
       "      interaction_id                                 instruction_prefix   \n",
       "4354         4304955  You are a math assistant whose main area of ex...  \\\n",
       "4355         4545561  You are a math assistant whose main area of ex...   \n",
       "4356         4454730  You are a math assistant whose main area of ex...   \n",
       "4357         4113365  You are a math assistant whose main area of ex...   \n",
       "4358         4121414  You are a math assistant whose main area of ex...   \n",
       "\n",
       "       user_prefix          assistant_prefix  \n",
       "4354  My request:   Let's think step by step  \n",
       "4355  My request:   Let's think step by step  \n",
       "4356  My request:   Let's think step by step  \n",
       "4357  My request:   Let's think step by step  \n",
       "4358  My request:   Let's think step by step  "
      ]
     },
     "execution_count": 17,
     "metadata": {},
     "output_type": "execute_result"
    }
   ],
   "source": [
    "first_group = [\"instruction_prefix\", \"user_prefix\", \"assistant_prefix\"]\n",
    "second_group = [\"choices\", \"question\", \"prediction\", \"prompt\", \"instruction\", \"is_open\"]\n",
    "\n",
    "df_first = df_new.dropna(subset=first_group, how=\"all\")\n",
    "df_first = df_first.drop(columns=second_group)\n",
    "print(len(df_first))\n",
    "df_first.head()"
   ]
  },
  {
   "attachments": {},
   "cell_type": "markdown",
   "metadata": {},
   "source": [
    "## 1. First group"
   ]
  },
  {
   "cell_type": "code",
   "execution_count": 18,
   "metadata": {},
   "outputs": [
    {
     "name": "stdout",
     "output_type": "stream",
     "text": [
      "confidence            0\n",
      "interaction           0\n",
      "sol_id                0\n",
      "interaction_id        0\n",
      "instruction_prefix    0\n",
      "user_prefix           0\n",
      "assistant_prefix      0\n",
      "dtype: int64\n"
     ]
    },
    {
     "data": {
      "text/plain": [
       "83"
      ]
     },
     "execution_count": 18,
     "metadata": {},
     "output_type": "execute_result"
    }
   ],
   "source": [
    "nan_values_per_column = df_first.isna().sum()\n",
    "# Print the count of NaN values per column\n",
    "print(nan_values_per_column)\n",
    "# print amount of values\n",
    "len(df_first)"
   ]
  },
  {
   "cell_type": "code",
   "execution_count": 19,
   "metadata": {},
   "outputs": [],
   "source": [
    "def addSystem(example):\n",
    "    intermediate = example[\"interaction\"]\n",
    "    # add at posiiton 0\n",
    "    new = {\"role\": \"system\", \"content\": example[\"instruction_prefix\"]}\n",
    "    intermediate.insert(0, new)\n",
    "    example[\"interaction\"] = intermediate\n",
    "    return example\n",
    "\n",
    "\n",
    "df_first = df_first.apply(addSystem, axis=1)"
   ]
  },
  {
   "cell_type": "code",
   "execution_count": 20,
   "metadata": {},
   "outputs": [
    {
     "data": {
      "text/html": [
       "<div>\n",
       "<style scoped>\n",
       "    .dataframe tbody tr th:only-of-type {\n",
       "        vertical-align: middle;\n",
       "    }\n",
       "\n",
       "    .dataframe tbody tr th {\n",
       "        vertical-align: top;\n",
       "    }\n",
       "\n",
       "    .dataframe thead th {\n",
       "        text-align: right;\n",
       "    }\n",
       "</style>\n",
       "<table border=\"1\" class=\"dataframe\">\n",
       "  <thead>\n",
       "    <tr style=\"text-align: right;\">\n",
       "      <th></th>\n",
       "      <th>confidence</th>\n",
       "      <th>interaction</th>\n",
       "      <th>sol_id</th>\n",
       "      <th>interaction_id</th>\n",
       "      <th>instruction_prefix</th>\n",
       "      <th>user_prefix</th>\n",
       "      <th>assistant_prefix</th>\n",
       "    </tr>\n",
       "  </thead>\n",
       "  <tbody>\n",
       "    <tr>\n",
       "      <th>4354</th>\n",
       "      <td>4</td>\n",
       "      <td>[{'role': 'system', 'content': 'You are a math...</td>\n",
       "      <td>2414321</td>\n",
       "      <td>4304955</td>\n",
       "      <td>You are a math assistant whose main area of ex...</td>\n",
       "      <td>My request:</td>\n",
       "      <td>Let's think step by step</td>\n",
       "    </tr>\n",
       "    <tr>\n",
       "      <th>4355</th>\n",
       "      <td>3</td>\n",
       "      <td>[{'role': 'system', 'content': 'You are a math...</td>\n",
       "      <td>2370873</td>\n",
       "      <td>4545561</td>\n",
       "      <td>You are a math assistant whose main area of ex...</td>\n",
       "      <td>My request:</td>\n",
       "      <td>Let's think step by step</td>\n",
       "    </tr>\n",
       "    <tr>\n",
       "      <th>4356</th>\n",
       "      <td>1</td>\n",
       "      <td>[{'role': 'system', 'content': 'You are a math...</td>\n",
       "      <td>1501810</td>\n",
       "      <td>4454730</td>\n",
       "      <td>You are a math assistant whose main area of ex...</td>\n",
       "      <td>My request:</td>\n",
       "      <td>Let's think step by step</td>\n",
       "    </tr>\n",
       "    <tr>\n",
       "      <th>4357</th>\n",
       "      <td>5</td>\n",
       "      <td>[{'role': 'system', 'content': 'You are a math...</td>\n",
       "      <td>1770795</td>\n",
       "      <td>4113365</td>\n",
       "      <td>You are a math assistant whose main area of ex...</td>\n",
       "      <td>My request:</td>\n",
       "      <td>Let's think step by step</td>\n",
       "    </tr>\n",
       "    <tr>\n",
       "      <th>4358</th>\n",
       "      <td>1</td>\n",
       "      <td>[{'role': 'system', 'content': 'You are a math...</td>\n",
       "      <td>1568606</td>\n",
       "      <td>4121414</td>\n",
       "      <td>You are a math assistant whose main area of ex...</td>\n",
       "      <td>My request:</td>\n",
       "      <td>Let's think step by step</td>\n",
       "    </tr>\n",
       "  </tbody>\n",
       "</table>\n",
       "</div>"
      ],
      "text/plain": [
       "      confidence                                        interaction   sol_id   \n",
       "4354           4  [{'role': 'system', 'content': 'You are a math...  2414321  \\\n",
       "4355           3  [{'role': 'system', 'content': 'You are a math...  2370873   \n",
       "4356           1  [{'role': 'system', 'content': 'You are a math...  1501810   \n",
       "4357           5  [{'role': 'system', 'content': 'You are a math...  1770795   \n",
       "4358           1  [{'role': 'system', 'content': 'You are a math...  1568606   \n",
       "\n",
       "      interaction_id                                 instruction_prefix   \n",
       "4354         4304955  You are a math assistant whose main area of ex...  \\\n",
       "4355         4545561  You are a math assistant whose main area of ex...   \n",
       "4356         4454730  You are a math assistant whose main area of ex...   \n",
       "4357         4113365  You are a math assistant whose main area of ex...   \n",
       "4358         4121414  You are a math assistant whose main area of ex...   \n",
       "\n",
       "       user_prefix          assistant_prefix  \n",
       "4354  My request:   Let's think step by step  \n",
       "4355  My request:   Let's think step by step  \n",
       "4356  My request:   Let's think step by step  \n",
       "4357  My request:   Let's think step by step  \n",
       "4358  My request:   Let's think step by step  "
      ]
     },
     "execution_count": 20,
     "metadata": {},
     "output_type": "execute_result"
    }
   ],
   "source": [
    "df_first.head()"
   ]
  },
  {
   "attachments": {},
   "cell_type": "markdown",
   "metadata": {},
   "source": [
    "## 2. second group"
   ]
  },
  {
   "cell_type": "code",
   "execution_count": 21,
   "metadata": {},
   "outputs": [
    {
     "name": "stdout",
     "output_type": "stream",
     "text": [
      "804\n"
     ]
    }
   ],
   "source": [
    "df_second = df_new.dropna(subset=second_group, how=\"all\")\n",
    "# df_second = df_second.drop(columns=first_group)\n",
    "print(len(df_second))"
   ]
  },
  {
   "cell_type": "code",
   "execution_count": 22,
   "metadata": {},
   "outputs": [
    {
     "name": "stdout",
     "output_type": "stream",
     "text": [
      "confidence              0\n",
      "interaction             0\n",
      "sol_id                  0\n",
      "interaction_id          0\n",
      "choices               206\n",
      "question               48\n",
      "instruction_prefix    804\n",
      "user_prefix           804\n",
      "assistant_prefix      804\n",
      "is_open               713\n",
      "prediction            713\n",
      "prompt                712\n",
      "instruction           712\n",
      "dtype: int64\n"
     ]
    },
    {
     "data": {
      "text/plain": [
       "804"
      ]
     },
     "execution_count": 22,
     "metadata": {},
     "output_type": "execute_result"
    }
   ],
   "source": [
    "nan_values_per_column = df_second.isna().sum()\n",
    "print(nan_values_per_column)\n",
    "len(df_second)"
   ]
  },
  {
   "attachments": {},
   "cell_type": "markdown",
   "metadata": {},
   "source": [
    "### 2.1 group third \n",
    "\n",
    "Here we divide the first group into two groups, group three and four."
   ]
  },
  {
   "cell_type": "code",
   "execution_count": 23,
   "metadata": {},
   "outputs": [],
   "source": [
    "third = [\"instruction\", \"prompt\"]\n",
    "df_second_1 = df_second.dropna(subset=third, how=\"all\")\n",
    "# df_second = df_second.drop(columns=third)"
   ]
  },
  {
   "cell_type": "code",
   "execution_count": 24,
   "metadata": {},
   "outputs": [
    {
     "name": "stdout",
     "output_type": "stream",
     "text": [
      "confidence             0\n",
      "interaction            0\n",
      "sol_id                 0\n",
      "interaction_id         0\n",
      "choices               25\n",
      "question               0\n",
      "instruction_prefix    92\n",
      "user_prefix           92\n",
      "assistant_prefix      92\n",
      "is_open               92\n",
      "prediction            92\n",
      "prompt                 0\n",
      "instruction            0\n",
      "dtype: int64\n"
     ]
    },
    {
     "data": {
      "text/plain": [
       "92"
      ]
     },
     "execution_count": 24,
     "metadata": {},
     "output_type": "execute_result"
    }
   ],
   "source": [
    "nan_values_per_column = df_second_1.isna().sum()\n",
    "print(nan_values_per_column)\n",
    "len(df_second_1)"
   ]
  },
  {
   "attachments": {},
   "cell_type": "markdown",
   "metadata": {},
   "source": [
    "fix the interactions to the correct ones"
   ]
  },
  {
   "cell_type": "code",
   "execution_count": 25,
   "metadata": {},
   "outputs": [],
   "source": [
    "def create_sub(example):\n",
    "    initial = example[\"interaction\"]\n",
    "    intermediate = example[\"interaction\"]\n",
    "    # add at posiiton 0\n",
    "    system = {\"role\": \"system\", \"content\": example[\"instruction\"]}\n",
    "    user = {\"role\": \"user\", \"content\": example[\"prompt\"]}\n",
    "    sub = [system, user]\n",
    "    example[\"interaction\"] = sub + intermediate\n",
    "    return example\n",
    "\n",
    "\n",
    "df_second_1 = df_second_1.apply(create_sub, axis=1)"
   ]
  },
  {
   "attachments": {},
   "cell_type": "markdown",
   "metadata": {},
   "source": [
    "Add the columns to mix with df_initial"
   ]
  },
  {
   "attachments": {},
   "cell_type": "markdown",
   "metadata": {},
   "source": [
    "### Redfine df_second"
   ]
  },
  {
   "cell_type": "code",
   "execution_count": 26,
   "metadata": {},
   "outputs": [],
   "source": [
    "indexes_to_delete = df_second_1.index.tolist()\n",
    "df_second = df_second.drop(indexes_to_delete, axis=0)"
   ]
  },
  {
   "cell_type": "code",
   "execution_count": 27,
   "metadata": {},
   "outputs": [
    {
     "name": "stdout",
     "output_type": "stream",
     "text": [
      "confidence              0\n",
      "interaction             0\n",
      "sol_id                  0\n",
      "interaction_id          0\n",
      "choices               181\n",
      "question               48\n",
      "instruction_prefix    712\n",
      "user_prefix           712\n",
      "assistant_prefix      712\n",
      "is_open               621\n",
      "prediction            621\n",
      "prompt                712\n",
      "instruction           712\n",
      "dtype: int64\n"
     ]
    },
    {
     "data": {
      "text/plain": [
       "712"
      ]
     },
     "execution_count": 27,
     "metadata": {},
     "output_type": "execute_result"
    }
   ],
   "source": [
    "nan_values_per_column = df_second.isna().sum()\n",
    "print(nan_values_per_column)\n",
    "len(df_second)"
   ]
  },
  {
   "attachments": {},
   "cell_type": "markdown",
   "metadata": {},
   "source": [
    "### 2.2 group df forth"
   ]
  },
  {
   "cell_type": "code",
   "execution_count": 28,
   "metadata": {},
   "outputs": [],
   "source": [
    "forth = [\"prediction\"]\n",
    "df_second_2 = df_second.dropna(subset=forth, how=\"all\")\n",
    "# df_second = df_second.drop(columns=forth)"
   ]
  },
  {
   "cell_type": "code",
   "execution_count": 29,
   "metadata": {},
   "outputs": [
    {
     "name": "stdout",
     "output_type": "stream",
     "text": [
      "confidence             0\n",
      "interaction            0\n",
      "sol_id                 0\n",
      "interaction_id         0\n",
      "choices                0\n",
      "question               0\n",
      "instruction_prefix    91\n",
      "user_prefix           91\n",
      "assistant_prefix      91\n",
      "is_open                0\n",
      "prediction             0\n",
      "prompt                91\n",
      "instruction           91\n",
      "dtype: int64\n"
     ]
    },
    {
     "data": {
      "text/plain": [
       "91"
      ]
     },
     "execution_count": 29,
     "metadata": {},
     "output_type": "execute_result"
    }
   ],
   "source": [
    "df_without_nan = df_second_2.dropna(subset=[\"prediction\"])\n",
    "nan_values_per_column = df_without_nan.isna().sum()\n",
    "print(nan_values_per_column)\n",
    "len(df_without_nan)"
   ]
  },
  {
   "cell_type": "code",
   "execution_count": 30,
   "metadata": {},
   "outputs": [],
   "source": [
    "def create_sub(example):\n",
    "    intermediate = example[\"interaction\"]\n",
    "    # add at posiiton 0\n",
    "    content = example[\"question\"] + \"\\n\"\n",
    "    if not example[\"is_open\"]:\n",
    "        content += \"Here are the choices:\\n\"\n",
    "        for choice in example[\"choices\"]:\n",
    "            content += \" \" + choice + \"\\n\"\n",
    "    content += \"Let's think step by step\\n\"\n",
    "    # I need to find if  \"I apologize for my mistake in the previous answer.\" is in example['prediction']\n",
    "    predict = example[\"prediction\"]\n",
    "    if \"I apologize\" in predict:\n",
    "        predict = predict.split(\".\")[1:]\n",
    "        predict = \".\".join(predict)\n",
    "\n",
    "    user = {\"role\": \"user\", \"content\": content}\n",
    "    assistant = {\"role\": \"assistant\", \"content\": predict}\n",
    "    intermediate = [user, assistant]\n",
    "    example[\"interaction\"] = intermediate\n",
    "    return example\n",
    "\n",
    "\n",
    "df_second_2 = df_second_2.apply(create_sub, axis=1)"
   ]
  },
  {
   "attachments": {},
   "cell_type": "markdown",
   "metadata": {},
   "source": [
    "### Redfine df_second time"
   ]
  },
  {
   "cell_type": "code",
   "execution_count": 31,
   "metadata": {},
   "outputs": [],
   "source": [
    "indexes_to_delete = df_second_2.index.tolist()\n",
    "df_second = df_second.drop(indexes_to_delete, axis=0)\n",
    "# df_second = df_second.drop(columns=forth)\n",
    "# df_second = df_second.drop(columns=third)\n",
    "# df_second = df_second.drop(columns=['is_open'])"
   ]
  },
  {
   "cell_type": "code",
   "execution_count": 32,
   "metadata": {},
   "outputs": [
    {
     "name": "stdout",
     "output_type": "stream",
     "text": [
      "confidence              0\n",
      "interaction             0\n",
      "sol_id                  0\n",
      "interaction_id          0\n",
      "choices               181\n",
      "question               48\n",
      "instruction_prefix    621\n",
      "user_prefix           621\n",
      "assistant_prefix      621\n",
      "is_open               621\n",
      "prediction            621\n",
      "prompt                621\n",
      "instruction           621\n",
      "dtype: int64\n"
     ]
    },
    {
     "data": {
      "text/plain": [
       "621"
      ]
     },
     "execution_count": 32,
     "metadata": {},
     "output_type": "execute_result"
    }
   ],
   "source": [
    "nan_values_per_column = df_second.isna().sum()\n",
    "# Print the count of NaN values per column\n",
    "print(nan_values_per_column)\n",
    "# print amount of values\n",
    "len(df_second)"
   ]
  },
  {
   "attachments": {},
   "cell_type": "markdown",
   "metadata": {},
   "source": [
    "### redine df second again"
   ]
  },
  {
   "cell_type": "code",
   "execution_count": 33,
   "metadata": {},
   "outputs": [
    {
     "name": "stdout",
     "output_type": "stream",
     "text": [
      "confidence              0\n",
      "interaction             0\n",
      "sol_id                  0\n",
      "interaction_id          0\n",
      "choices                 0\n",
      "question               48\n",
      "instruction_prefix    440\n",
      "user_prefix           440\n",
      "assistant_prefix      440\n",
      "is_open               440\n",
      "prediction            440\n",
      "prompt                440\n",
      "instruction           440\n",
      "dtype: int64\n"
     ]
    },
    {
     "data": {
      "text/plain": [
       "440"
      ]
     },
     "execution_count": 33,
     "metadata": {},
     "output_type": "execute_result"
    }
   ],
   "source": [
    "df_without_nan = df_second.dropna(subset=[\"choices\"])\n",
    "nan_values_per_column = df_without_nan.isna().sum()\n",
    "print(nan_values_per_column)\n",
    "len(df_without_nan)"
   ]
  },
  {
   "cell_type": "code",
   "execution_count": 34,
   "metadata": {},
   "outputs": [
    {
     "name": "stdout",
     "output_type": "stream",
     "text": [
      "confidence              0\n",
      "interaction             0\n",
      "sol_id                  0\n",
      "interaction_id          0\n",
      "choices               181\n",
      "question                0\n",
      "instruction_prefix    573\n",
      "user_prefix           573\n",
      "assistant_prefix      573\n",
      "is_open               573\n",
      "prediction            573\n",
      "prompt                573\n",
      "instruction           573\n",
      "dtype: int64\n"
     ]
    },
    {
     "data": {
      "text/plain": [
       "573"
      ]
     },
     "execution_count": 34,
     "metadata": {},
     "output_type": "execute_result"
    }
   ],
   "source": [
    "df_without_nan = df_second.dropna(subset=[\"question\"])\n",
    "nan_values_per_column = df_without_nan.isna().sum()\n",
    "print(nan_values_per_column)\n",
    "len(df_without_nan)"
   ]
  },
  {
   "cell_type": "code",
   "execution_count": 35,
   "metadata": {},
   "outputs": [
    {
     "name": "stdout",
     "output_type": "stream",
     "text": [
      "confidence              0\n",
      "interaction             0\n",
      "sol_id                  0\n",
      "interaction_id          0\n",
      "choices                 0\n",
      "question                0\n",
      "instruction_prefix    392\n",
      "user_prefix           392\n",
      "assistant_prefix      392\n",
      "is_open               392\n",
      "prediction            392\n",
      "prompt                392\n",
      "instruction           392\n",
      "dtype: int64\n"
     ]
    },
    {
     "data": {
      "text/plain": [
       "392"
      ]
     },
     "execution_count": 35,
     "metadata": {},
     "output_type": "execute_result"
    }
   ],
   "source": [
    "df_without_nan = df_second.dropna(subset=[\"question\", \"choices\"])\n",
    "\n",
    "nan_values_per_column = df_without_nan.isna().sum()\n",
    "print(nan_values_per_column)\n",
    "len(df_without_nan)"
   ]
  },
  {
   "attachments": {},
   "cell_type": "markdown",
   "metadata": {},
   "source": [
    "### 2.3 question and choices"
   ]
  },
  {
   "cell_type": "code",
   "execution_count": 36,
   "metadata": {},
   "outputs": [
    {
     "name": "stdout",
     "output_type": "stream",
     "text": [
      "confidence              0\n",
      "interaction             0\n",
      "sol_id                  0\n",
      "interaction_id          0\n",
      "choices                 0\n",
      "question                0\n",
      "instruction_prefix    392\n",
      "user_prefix           392\n",
      "assistant_prefix      392\n",
      "is_open               392\n",
      "prediction            392\n",
      "prompt                392\n",
      "instruction           392\n",
      "dtype: int64\n"
     ]
    },
    {
     "data": {
      "text/plain": [
       "392"
      ]
     },
     "execution_count": 36,
     "metadata": {},
     "output_type": "execute_result"
    }
   ],
   "source": [
    "df_second_3 = df_second.dropna(subset=[\"question\", \"choices\"])\n",
    "\n",
    "nan_values_per_column = df_second_3.isna().sum()\n",
    "print(nan_values_per_column)\n",
    "len(df_without_nan)"
   ]
  },
  {
   "cell_type": "code",
   "execution_count": 37,
   "metadata": {},
   "outputs": [],
   "source": [
    "def findUser(example):\n",
    "    interactions = example[\"interaction\"]\n",
    "    roles = set()\n",
    "    for interaction in interactions:\n",
    "        role = interaction[\"role\"]\n",
    "        roles.add(role)\n",
    "\n",
    "    if \"user\" not in roles:\n",
    "        new = [\n",
    "            {\n",
    "                \"role\": \"user\",\n",
    "                \"content\": example[\"question\"]\n",
    "                + \"\\n\"\n",
    "                + \"Here are the choices:\\n\"\n",
    "                + \" \".join(example[\"choices\"]),\n",
    "            }\n",
    "        ]\n",
    "        example[\"interaction\"] = new + interactions\n",
    "\n",
    "    return example\n",
    "\n",
    "\n",
    "df_second_3 = df_second_3.apply(findUser, axis=1)"
   ]
  },
  {
   "attachments": {},
   "cell_type": "markdown",
   "metadata": {},
   "source": [
    "### redefine df second again"
   ]
  },
  {
   "cell_type": "code",
   "execution_count": 38,
   "metadata": {},
   "outputs": [
    {
     "name": "stdout",
     "output_type": "stream",
     "text": [
      "229\n"
     ]
    },
    {
     "data": {
      "text/html": [
       "<div>\n",
       "<style scoped>\n",
       "    .dataframe tbody tr th:only-of-type {\n",
       "        vertical-align: middle;\n",
       "    }\n",
       "\n",
       "    .dataframe tbody tr th {\n",
       "        vertical-align: top;\n",
       "    }\n",
       "\n",
       "    .dataframe thead th {\n",
       "        text-align: right;\n",
       "    }\n",
       "</style>\n",
       "<table border=\"1\" class=\"dataframe\">\n",
       "  <thead>\n",
       "    <tr style=\"text-align: right;\">\n",
       "      <th></th>\n",
       "      <th>confidence</th>\n",
       "      <th>interaction</th>\n",
       "      <th>sol_id</th>\n",
       "      <th>interaction_id</th>\n",
       "      <th>choices</th>\n",
       "      <th>question</th>\n",
       "      <th>instruction_prefix</th>\n",
       "      <th>user_prefix</th>\n",
       "      <th>assistant_prefix</th>\n",
       "      <th>is_open</th>\n",
       "      <th>prediction</th>\n",
       "      <th>prompt</th>\n",
       "      <th>instruction</th>\n",
       "    </tr>\n",
       "  </thead>\n",
       "  <tbody>\n",
       "    <tr>\n",
       "      <th>1454</th>\n",
       "      <td>4</td>\n",
       "      <td>[{'role': 'system', 'content': 'You are an AI ...</td>\n",
       "      <td>2898230</td>\n",
       "      <td>4850941</td>\n",
       "      <td>NaN</td>\n",
       "      <td>What is the probability of a successful transm...</td>\n",
       "      <td>NaN</td>\n",
       "      <td>NaN</td>\n",
       "      <td>NaN</td>\n",
       "      <td>NaN</td>\n",
       "      <td>NaN</td>\n",
       "      <td>NaN</td>\n",
       "      <td>NaN</td>\n",
       "    </tr>\n",
       "    <tr>\n",
       "      <th>1492</th>\n",
       "      <td>1</td>\n",
       "      <td>[{'role': 'system', 'content': 'You are an AI ...</td>\n",
       "      <td>1738824</td>\n",
       "      <td>4833162</td>\n",
       "      <td>NaN</td>\n",
       "      <td>Reorder (separated by commas, e.g. A,B,C,D,E,F...</td>\n",
       "      <td>NaN</td>\n",
       "      <td>NaN</td>\n",
       "      <td>NaN</td>\n",
       "      <td>NaN</td>\n",
       "      <td>NaN</td>\n",
       "      <td>NaN</td>\n",
       "      <td>NaN</td>\n",
       "    </tr>\n",
       "    <tr>\n",
       "      <th>2183</th>\n",
       "      <td>1</td>\n",
       "      <td>[{'role': 'system', 'content': 'Tu es un profe...</td>\n",
       "      <td>1241889</td>\n",
       "      <td>4369221</td>\n",
       "      <td>NaN</td>\n",
       "      <td>Considérez deux plans infinis uniformément cha...</td>\n",
       "      <td>NaN</td>\n",
       "      <td>NaN</td>\n",
       "      <td>NaN</td>\n",
       "      <td>NaN</td>\n",
       "      <td>NaN</td>\n",
       "      <td>NaN</td>\n",
       "      <td>NaN</td>\n",
       "    </tr>\n",
       "    <tr>\n",
       "      <th>2184</th>\n",
       "      <td>4</td>\n",
       "      <td>[{'role': 'user', 'content': 'Les électrodes d...</td>\n",
       "      <td>1556723</td>\n",
       "      <td>4341974</td>\n",
       "      <td>NaN</td>\n",
       "      <td>Les électrodes d'un condensateur plan, de surf...</td>\n",
       "      <td>NaN</td>\n",
       "      <td>NaN</td>\n",
       "      <td>NaN</td>\n",
       "      <td>NaN</td>\n",
       "      <td>NaN</td>\n",
       "      <td>NaN</td>\n",
       "      <td>NaN</td>\n",
       "    </tr>\n",
       "    <tr>\n",
       "      <th>2185</th>\n",
       "      <td>4</td>\n",
       "      <td>[{'role': 'user', 'content': 'Deux disques A e...</td>\n",
       "      <td>2971874</td>\n",
       "      <td>4080685</td>\n",
       "      <td>NaN</td>\n",
       "      <td>Deux disques A et B de rayon R, alignés, peuve...</td>\n",
       "      <td>NaN</td>\n",
       "      <td>NaN</td>\n",
       "      <td>NaN</td>\n",
       "      <td>NaN</td>\n",
       "      <td>NaN</td>\n",
       "      <td>NaN</td>\n",
       "      <td>NaN</td>\n",
       "    </tr>\n",
       "  </tbody>\n",
       "</table>\n",
       "</div>"
      ],
      "text/plain": [
       "      confidence                                        interaction   sol_id   \n",
       "1454           4  [{'role': 'system', 'content': 'You are an AI ...  2898230  \\\n",
       "1492           1  [{'role': 'system', 'content': 'You are an AI ...  1738824   \n",
       "2183           1  [{'role': 'system', 'content': 'Tu es un profe...  1241889   \n",
       "2184           4  [{'role': 'user', 'content': 'Les électrodes d...  1556723   \n",
       "2185           4  [{'role': 'user', 'content': 'Deux disques A e...  2971874   \n",
       "\n",
       "      interaction_id choices   \n",
       "1454         4850941     NaN  \\\n",
       "1492         4833162     NaN   \n",
       "2183         4369221     NaN   \n",
       "2184         4341974     NaN   \n",
       "2185         4080685     NaN   \n",
       "\n",
       "                                               question instruction_prefix   \n",
       "1454  What is the probability of a successful transm...                NaN  \\\n",
       "1492  Reorder (separated by commas, e.g. A,B,C,D,E,F...                NaN   \n",
       "2183  Considérez deux plans infinis uniformément cha...                NaN   \n",
       "2184  Les électrodes d'un condensateur plan, de surf...                NaN   \n",
       "2185  Deux disques A et B de rayon R, alignés, peuve...                NaN   \n",
       "\n",
       "     user_prefix assistant_prefix is_open prediction prompt instruction  \n",
       "1454         NaN              NaN     NaN        NaN    NaN         NaN  \n",
       "1492         NaN              NaN     NaN        NaN    NaN         NaN  \n",
       "2183         NaN              NaN     NaN        NaN    NaN         NaN  \n",
       "2184         NaN              NaN     NaN        NaN    NaN         NaN  \n",
       "2185         NaN              NaN     NaN        NaN    NaN         NaN  "
      ]
     },
     "execution_count": 38,
     "metadata": {},
     "output_type": "execute_result"
    }
   ],
   "source": [
    "indexes_to_delete = df_second_3.index.tolist()\n",
    "df_second = df_second.drop(indexes_to_delete, axis=0)\n",
    "print(len(df_second))\n",
    "df_second.head()"
   ]
  },
  {
   "attachments": {},
   "cell_type": "markdown",
   "metadata": {},
   "source": [
    "### 2.4 define Question column"
   ]
  },
  {
   "cell_type": "code",
   "execution_count": 39,
   "metadata": {},
   "outputs": [
    {
     "name": "stdout",
     "output_type": "stream",
     "text": [
      "confidence              0\n",
      "interaction             0\n",
      "sol_id                  0\n",
      "interaction_id          0\n",
      "choices               181\n",
      "question                0\n",
      "instruction_prefix    181\n",
      "user_prefix           181\n",
      "assistant_prefix      181\n",
      "is_open               181\n",
      "prediction            181\n",
      "prompt                181\n",
      "instruction           181\n",
      "dtype: int64\n"
     ]
    },
    {
     "data": {
      "text/plain": [
       "181"
      ]
     },
     "execution_count": 39,
     "metadata": {},
     "output_type": "execute_result"
    }
   ],
   "source": [
    "df_second_4 = df_second.dropna(subset=[\"question\"])\n",
    "nan_values_per_column = df_second_4.isna().sum()\n",
    "print(nan_values_per_column)\n",
    "len(df_second_4)"
   ]
  },
  {
   "cell_type": "code",
   "execution_count": 40,
   "metadata": {},
   "outputs": [],
   "source": [
    "def findQuestion(example):\n",
    "    interactions = example[\"interaction\"]\n",
    "    roles = set()\n",
    "    for interaction in interactions:\n",
    "        role = interaction[\"role\"]\n",
    "        roles.add(role)\n",
    "        if role == \"user\":\n",
    "            content = interaction[\"content\"]\n",
    "            if example[\"question\"] in content:\n",
    "                return example\n",
    "            break\n",
    "    if \"user\" not in roles:\n",
    "        new = [{\"role\": \"user\", \"content\": example[\"question\"] + \"\\n\"}]\n",
    "        example[\"interaction\"] = new + interactions\n",
    "    return example\n",
    "\n",
    "\n",
    "df_second_4 = df_second_4.apply(findQuestion, axis=1)"
   ]
  },
  {
   "attachments": {},
   "cell_type": "markdown",
   "metadata": {},
   "source": [
    "### Redefine df second again"
   ]
  },
  {
   "cell_type": "code",
   "execution_count": 41,
   "metadata": {},
   "outputs": [
    {
     "name": "stdout",
     "output_type": "stream",
     "text": [
      "48\n"
     ]
    },
    {
     "data": {
      "text/html": [
       "<div>\n",
       "<style scoped>\n",
       "    .dataframe tbody tr th:only-of-type {\n",
       "        vertical-align: middle;\n",
       "    }\n",
       "\n",
       "    .dataframe tbody tr th {\n",
       "        vertical-align: top;\n",
       "    }\n",
       "\n",
       "    .dataframe thead th {\n",
       "        text-align: right;\n",
       "    }\n",
       "</style>\n",
       "<table border=\"1\" class=\"dataframe\">\n",
       "  <thead>\n",
       "    <tr style=\"text-align: right;\">\n",
       "      <th></th>\n",
       "      <th>confidence</th>\n",
       "      <th>interaction</th>\n",
       "      <th>sol_id</th>\n",
       "      <th>interaction_id</th>\n",
       "      <th>choices</th>\n",
       "      <th>question</th>\n",
       "      <th>instruction_prefix</th>\n",
       "      <th>user_prefix</th>\n",
       "      <th>assistant_prefix</th>\n",
       "      <th>is_open</th>\n",
       "      <th>prediction</th>\n",
       "      <th>prompt</th>\n",
       "      <th>instruction</th>\n",
       "    </tr>\n",
       "  </thead>\n",
       "  <tbody>\n",
       "    <tr>\n",
       "      <th>2316</th>\n",
       "      <td>2</td>\n",
       "      <td>[{'role': 'system', 'content': 'c'est une ques...</td>\n",
       "      <td>2517410</td>\n",
       "      <td>4754452</td>\n",
       "      <td>[6, 10, 12, 16]</td>\n",
       "      <td>NaN</td>\n",
       "      <td>NaN</td>\n",
       "      <td>NaN</td>\n",
       "      <td>NaN</td>\n",
       "      <td>NaN</td>\n",
       "      <td>NaN</td>\n",
       "      <td>NaN</td>\n",
       "      <td>NaN</td>\n",
       "    </tr>\n",
       "    <tr>\n",
       "      <th>2335</th>\n",
       "      <td>5</td>\n",
       "      <td>[{'role': 'system', 'content': 'Question sur l...</td>\n",
       "      <td>2436227</td>\n",
       "      <td>4194655</td>\n",
       "      <td>[a + 0 = 0, a + 0 = 1, a + 0 = a, a + 1 = a]</td>\n",
       "      <td>NaN</td>\n",
       "      <td>NaN</td>\n",
       "      <td>NaN</td>\n",
       "      <td>NaN</td>\n",
       "      <td>NaN</td>\n",
       "      <td>NaN</td>\n",
       "      <td>NaN</td>\n",
       "      <td>NaN</td>\n",
       "    </tr>\n",
       "    <tr>\n",
       "      <th>2345</th>\n",
       "      <td>5</td>\n",
       "      <td>[{'role': 'system', 'content': 'Question à cho...</td>\n",
       "      <td>2551041</td>\n",
       "      <td>4690318</td>\n",
       "      <td>[26^7, 7^{26}, 52^7, 7^{52}]</td>\n",
       "      <td>NaN</td>\n",
       "      <td>NaN</td>\n",
       "      <td>NaN</td>\n",
       "      <td>NaN</td>\n",
       "      <td>NaN</td>\n",
       "      <td>NaN</td>\n",
       "      <td>NaN</td>\n",
       "      <td>NaN</td>\n",
       "    </tr>\n",
       "    <tr>\n",
       "      <th>2354</th>\n",
       "      <td>4</td>\n",
       "      <td>[{'role': 'system', 'content': 'question à cho...</td>\n",
       "      <td>2337413</td>\n",
       "      <td>4456018</td>\n",
       "      <td>[a) XI (t) = X(t) pour tout t ∈ R lorsque la f...</td>\n",
       "      <td>NaN</td>\n",
       "      <td>NaN</td>\n",
       "      <td>NaN</td>\n",
       "      <td>NaN</td>\n",
       "      <td>NaN</td>\n",
       "      <td>NaN</td>\n",
       "      <td>NaN</td>\n",
       "      <td>NaN</td>\n",
       "    </tr>\n",
       "    <tr>\n",
       "      <th>2359</th>\n",
       "      <td>3</td>\n",
       "      <td>[{'role': 'system', 'content': 'question d'ent...</td>\n",
       "      <td>2188632</td>\n",
       "      <td>4419492</td>\n",
       "      <td>None</td>\n",
       "      <td>NaN</td>\n",
       "      <td>NaN</td>\n",
       "      <td>NaN</td>\n",
       "      <td>NaN</td>\n",
       "      <td>NaN</td>\n",
       "      <td>NaN</td>\n",
       "      <td>NaN</td>\n",
       "      <td>NaN</td>\n",
       "    </tr>\n",
       "  </tbody>\n",
       "</table>\n",
       "</div>"
      ],
      "text/plain": [
       "      confidence                                        interaction   sol_id   \n",
       "2316           2  [{'role': 'system', 'content': 'c'est une ques...  2517410  \\\n",
       "2335           5  [{'role': 'system', 'content': 'Question sur l...  2436227   \n",
       "2345           5  [{'role': 'system', 'content': 'Question à cho...  2551041   \n",
       "2354           4  [{'role': 'system', 'content': 'question à cho...  2337413   \n",
       "2359           3  [{'role': 'system', 'content': 'question d'ent...  2188632   \n",
       "\n",
       "      interaction_id                                            choices   \n",
       "2316         4754452                                    [6, 10, 12, 16]  \\\n",
       "2335         4194655       [a + 0 = 0, a + 0 = 1, a + 0 = a, a + 1 = a]   \n",
       "2345         4690318                       [26^7, 7^{26}, 52^7, 7^{52}]   \n",
       "2354         4456018  [a) XI (t) = X(t) pour tout t ∈ R lorsque la f...   \n",
       "2359         4419492                                               None   \n",
       "\n",
       "     question instruction_prefix user_prefix assistant_prefix is_open   \n",
       "2316      NaN                NaN         NaN              NaN     NaN  \\\n",
       "2335      NaN                NaN         NaN              NaN     NaN   \n",
       "2345      NaN                NaN         NaN              NaN     NaN   \n",
       "2354      NaN                NaN         NaN              NaN     NaN   \n",
       "2359      NaN                NaN         NaN              NaN     NaN   \n",
       "\n",
       "     prediction prompt instruction  \n",
       "2316        NaN    NaN         NaN  \n",
       "2335        NaN    NaN         NaN  \n",
       "2345        NaN    NaN         NaN  \n",
       "2354        NaN    NaN         NaN  \n",
       "2359        NaN    NaN         NaN  "
      ]
     },
     "execution_count": 41,
     "metadata": {},
     "output_type": "execute_result"
    }
   ],
   "source": [
    "indexes_to_delete = df_second_4.index.tolist()\n",
    "df_second = df_second.drop(indexes_to_delete, axis=0)\n",
    "print(len(df_second))\n",
    "df_second.head()"
   ]
  },
  {
   "cell_type": "code",
   "execution_count": 42,
   "metadata": {},
   "outputs": [
    {
     "name": "stdout",
     "output_type": "stream",
     "text": [
      "confidence             0\n",
      "interaction            0\n",
      "sol_id                 0\n",
      "interaction_id         0\n",
      "choices                0\n",
      "question              48\n",
      "instruction_prefix    48\n",
      "user_prefix           48\n",
      "assistant_prefix      48\n",
      "is_open               48\n",
      "prediction            48\n",
      "prompt                48\n",
      "instruction           48\n",
      "dtype: int64\n"
     ]
    },
    {
     "data": {
      "text/plain": [
       "48"
      ]
     },
     "execution_count": 42,
     "metadata": {},
     "output_type": "execute_result"
    }
   ],
   "source": [
    "df_without_nan = df_second.dropna(subset=[\"choices\"])\n",
    "nan_values_per_column = df_without_nan.isna().sum()\n",
    "print(nan_values_per_column)\n",
    "len(df_without_nan)"
   ]
  },
  {
   "attachments": {},
   "cell_type": "markdown",
   "metadata": {},
   "source": [
    "# Final converstion and concatenation"
   ]
  },
  {
   "cell_type": "code",
   "execution_count": 43,
   "metadata": {},
   "outputs": [],
   "source": [
    "df_second_1 = df_second_1.drop(\n",
    "    columns=[\n",
    "        \"choices\",\n",
    "        \"question\",\n",
    "        \"instruction_prefix\",\n",
    "        \"user_prefix\",\n",
    "        \"assistant_prefix\",\n",
    "        \"is_open\",\n",
    "        \"prediction\",\n",
    "        \"prompt\",\n",
    "        \"instruction\",\n",
    "    ]\n",
    ")\n",
    "df_second_2 = df_second_2.drop(\n",
    "    columns=[\n",
    "        \"choices\",\n",
    "        \"question\",\n",
    "        \"instruction_prefix\",\n",
    "        \"user_prefix\",\n",
    "        \"assistant_prefix\",\n",
    "        \"is_open\",\n",
    "        \"prediction\",\n",
    "        \"prompt\",\n",
    "        \"instruction\",\n",
    "    ]\n",
    ")\n",
    "df_second_3 = df_second_3.drop(\n",
    "    columns=[\n",
    "        \"choices\",\n",
    "        \"question\",\n",
    "        \"instruction_prefix\",\n",
    "        \"user_prefix\",\n",
    "        \"assistant_prefix\",\n",
    "        \"is_open\",\n",
    "        \"prediction\",\n",
    "        \"prompt\",\n",
    "        \"instruction\",\n",
    "    ]\n",
    ")\n",
    "df_second_4 = df_second_4.drop(\n",
    "    columns=[\n",
    "        \"choices\",\n",
    "        \"question\",\n",
    "        \"instruction_prefix\",\n",
    "        \"user_prefix\",\n",
    "        \"assistant_prefix\",\n",
    "        \"is_open\",\n",
    "        \"prediction\",\n",
    "        \"prompt\",\n",
    "        \"instruction\",\n",
    "    ]\n",
    ")\n",
    "df_second = df_second.drop(\n",
    "    columns=[\n",
    "        \"choices\",\n",
    "        \"question\",\n",
    "        \"instruction_prefix\",\n",
    "        \"user_prefix\",\n",
    "        \"assistant_prefix\",\n",
    "        \"is_open\",\n",
    "        \"prediction\",\n",
    "        \"prompt\",\n",
    "        \"instruction\",\n",
    "    ]\n",
    ")"
   ]
  },
  {
   "cell_type": "code",
   "execution_count": 44,
   "metadata": {},
   "outputs": [],
   "source": [
    "df_first = df_first.drop(\n",
    "    columns=[\"instruction_prefix\", \"user_prefix\", \"assistant_prefix\"]\n",
    ")"
   ]
  },
  {
   "cell_type": "code",
   "execution_count": 45,
   "metadata": {},
   "outputs": [],
   "source": [
    "df_initial = df_initial.drop(\n",
    "    columns=[\n",
    "        \"choices\",\n",
    "        \"question\",\n",
    "        \"display_name\",\n",
    "        \"name\",\n",
    "        \"created_at\",\n",
    "        \"model_type\",\n",
    "        \"instruction_prefix\",\n",
    "        \"user_prefix\",\n",
    "        \"assistant_prefix\",\n",
    "        \"is_open\",\n",
    "        \"prediction\",\n",
    "        \"prompt\",\n",
    "        \"instruction\",\n",
    "    ]\n",
    ")"
   ]
  },
  {
   "cell_type": "code",
   "execution_count": 46,
   "metadata": {},
   "outputs": [],
   "source": [
    "df_combined = pd.concat(\n",
    "    [\n",
    "        df_first,\n",
    "        df_second_1,\n",
    "        df_second_2,\n",
    "        df_second_3,\n",
    "        df_second_4,\n",
    "        df_second,\n",
    "        df_initial,\n",
    "    ],\n",
    "    axis=0,\n",
    ")"
   ]
  },
  {
   "cell_type": "code",
   "execution_count": 47,
   "metadata": {},
   "outputs": [
    {
     "data": {
      "text/html": [
       "<div>\n",
       "<style scoped>\n",
       "    .dataframe tbody tr th:only-of-type {\n",
       "        vertical-align: middle;\n",
       "    }\n",
       "\n",
       "    .dataframe tbody tr th {\n",
       "        vertical-align: top;\n",
       "    }\n",
       "\n",
       "    .dataframe thead th {\n",
       "        text-align: right;\n",
       "    }\n",
       "</style>\n",
       "<table border=\"1\" class=\"dataframe\">\n",
       "  <thead>\n",
       "    <tr style=\"text-align: right;\">\n",
       "      <th></th>\n",
       "      <th>confidence</th>\n",
       "      <th>interaction</th>\n",
       "      <th>sol_id</th>\n",
       "      <th>interaction_id</th>\n",
       "    </tr>\n",
       "  </thead>\n",
       "  <tbody>\n",
       "    <tr>\n",
       "      <th>4354</th>\n",
       "      <td>4</td>\n",
       "      <td>[{'role': 'system', 'content': 'You are a math...</td>\n",
       "      <td>2414321</td>\n",
       "      <td>4304955</td>\n",
       "    </tr>\n",
       "    <tr>\n",
       "      <th>4355</th>\n",
       "      <td>3</td>\n",
       "      <td>[{'role': 'system', 'content': 'You are a math...</td>\n",
       "      <td>2370873</td>\n",
       "      <td>4545561</td>\n",
       "    </tr>\n",
       "    <tr>\n",
       "      <th>4356</th>\n",
       "      <td>1</td>\n",
       "      <td>[{'role': 'system', 'content': 'You are a math...</td>\n",
       "      <td>1501810</td>\n",
       "      <td>4454730</td>\n",
       "    </tr>\n",
       "    <tr>\n",
       "      <th>4357</th>\n",
       "      <td>5</td>\n",
       "      <td>[{'role': 'system', 'content': 'You are a math...</td>\n",
       "      <td>1770795</td>\n",
       "      <td>4113365</td>\n",
       "    </tr>\n",
       "    <tr>\n",
       "      <th>4358</th>\n",
       "      <td>1</td>\n",
       "      <td>[{'role': 'system', 'content': 'You are a math...</td>\n",
       "      <td>1568606</td>\n",
       "      <td>4121414</td>\n",
       "    </tr>\n",
       "    <tr>\n",
       "      <th>...</th>\n",
       "      <td>...</td>\n",
       "      <td>...</td>\n",
       "      <td>...</td>\n",
       "      <td>...</td>\n",
       "    </tr>\n",
       "    <tr>\n",
       "      <th>10830</th>\n",
       "      <td>5</td>\n",
       "      <td>[{'role': 'system', 'content': ''}, {'role': '...</td>\n",
       "      <td>2313193</td>\n",
       "      <td>4154532</td>\n",
       "    </tr>\n",
       "    <tr>\n",
       "      <th>10831</th>\n",
       "      <td>5</td>\n",
       "      <td>[{'role': 'system', 'content': ''}, {'role': '...</td>\n",
       "      <td>1640699</td>\n",
       "      <td>4805305</td>\n",
       "    </tr>\n",
       "    <tr>\n",
       "      <th>10832</th>\n",
       "      <td>4</td>\n",
       "      <td>[{'role': 'system', 'content': ''}, {'role': '...</td>\n",
       "      <td>1834070</td>\n",
       "      <td>4476719</td>\n",
       "    </tr>\n",
       "    <tr>\n",
       "      <th>10833</th>\n",
       "      <td>4</td>\n",
       "      <td>[{'role': 'system', 'content': ''}, {'role': '...</td>\n",
       "      <td>2822231</td>\n",
       "      <td>4128125</td>\n",
       "    </tr>\n",
       "    <tr>\n",
       "      <th>10834</th>\n",
       "      <td>4</td>\n",
       "      <td>[{'role': 'system', 'content': ''}, {'role': '...</td>\n",
       "      <td>1897160</td>\n",
       "      <td>4262867</td>\n",
       "    </tr>\n",
       "  </tbody>\n",
       "</table>\n",
       "<p>10560 rows × 4 columns</p>\n",
       "</div>"
      ],
      "text/plain": [
       "       confidence                                        interaction   sol_id   \n",
       "4354            4  [{'role': 'system', 'content': 'You are a math...  2414321  \\\n",
       "4355            3  [{'role': 'system', 'content': 'You are a math...  2370873   \n",
       "4356            1  [{'role': 'system', 'content': 'You are a math...  1501810   \n",
       "4357            5  [{'role': 'system', 'content': 'You are a math...  1770795   \n",
       "4358            1  [{'role': 'system', 'content': 'You are a math...  1568606   \n",
       "...           ...                                                ...      ...   \n",
       "10830           5  [{'role': 'system', 'content': ''}, {'role': '...  2313193   \n",
       "10831           5  [{'role': 'system', 'content': ''}, {'role': '...  1640699   \n",
       "10832           4  [{'role': 'system', 'content': ''}, {'role': '...  1834070   \n",
       "10833           4  [{'role': 'system', 'content': ''}, {'role': '...  2822231   \n",
       "10834           4  [{'role': 'system', 'content': ''}, {'role': '...  1897160   \n",
       "\n",
       "       interaction_id  \n",
       "4354          4304955  \n",
       "4355          4545561  \n",
       "4356          4454730  \n",
       "4357          4113365  \n",
       "4358          4121414  \n",
       "...               ...  \n",
       "10830         4154532  \n",
       "10831         4805305  \n",
       "10832         4476719  \n",
       "10833         4128125  \n",
       "10834         4262867  \n",
       "\n",
       "[10560 rows x 4 columns]"
      ]
     },
     "execution_count": 47,
     "metadata": {},
     "output_type": "execute_result"
    }
   ],
   "source": [
    "df_combined"
   ]
  },
  {
   "cell_type": "code",
   "execution_count": 48,
   "metadata": {},
   "outputs": [
    {
     "name": "stdout",
     "output_type": "stream",
     "text": [
      "confidence        0\n",
      "interaction       0\n",
      "sol_id            0\n",
      "interaction_id    0\n",
      "dtype: int64\n"
     ]
    },
    {
     "data": {
      "text/plain": [
       "10560"
      ]
     },
     "execution_count": 48,
     "metadata": {},
     "output_type": "execute_result"
    }
   ],
   "source": [
    "nan_values_per_column = df_combined.isna().sum()\n",
    "print(nan_values_per_column)\n",
    "len(df_combined)"
   ]
  },
  {
   "cell_type": "code",
   "execution_count": 49,
   "metadata": {},
   "outputs": [
    {
     "data": {
      "text/html": [
       "<div>\n",
       "<style scoped>\n",
       "    .dataframe tbody tr th:only-of-type {\n",
       "        vertical-align: middle;\n",
       "    }\n",
       "\n",
       "    .dataframe tbody tr th {\n",
       "        vertical-align: top;\n",
       "    }\n",
       "\n",
       "    .dataframe thead th {\n",
       "        text-align: right;\n",
       "    }\n",
       "</style>\n",
       "<table border=\"1\" class=\"dataframe\">\n",
       "  <thead>\n",
       "    <tr style=\"text-align: right;\">\n",
       "      <th></th>\n",
       "      <th>confidence</th>\n",
       "      <th>interaction</th>\n",
       "      <th>sol_id</th>\n",
       "      <th>interaction_id</th>\n",
       "    </tr>\n",
       "  </thead>\n",
       "  <tbody>\n",
       "    <tr>\n",
       "      <th>2632</th>\n",
       "      <td>2</td>\n",
       "      <td>[{'role': 'system', 'content': 'Answer in engl...</td>\n",
       "      <td>1000851</td>\n",
       "      <td>4747078</td>\n",
       "    </tr>\n",
       "    <tr>\n",
       "      <th>2725</th>\n",
       "      <td>4</td>\n",
       "      <td>[{'role': 'system', 'content': 'You are a phys...</td>\n",
       "      <td>1000851</td>\n",
       "      <td>4390722</td>\n",
       "    </tr>\n",
       "    <tr>\n",
       "      <th>2395</th>\n",
       "      <td>4</td>\n",
       "      <td>[{'role': 'system', 'content': 'QCM'}, {'role'...</td>\n",
       "      <td>1001199</td>\n",
       "      <td>4967894</td>\n",
       "    </tr>\n",
       "    <tr>\n",
       "      <th>2575</th>\n",
       "      <td>5</td>\n",
       "      <td>[{'role': 'user', 'content': 'Pour encoder la ...</td>\n",
       "      <td>1001199</td>\n",
       "      <td>4944321</td>\n",
       "    </tr>\n",
       "    <tr>\n",
       "      <th>2485</th>\n",
       "      <td>4</td>\n",
       "      <td>[{'role': 'system', 'content': 'QCM'}, {'role'...</td>\n",
       "      <td>1001199</td>\n",
       "      <td>4039807</td>\n",
       "    </tr>\n",
       "    <tr>\n",
       "      <th>...</th>\n",
       "      <td>...</td>\n",
       "      <td>...</td>\n",
       "      <td>...</td>\n",
       "      <td>...</td>\n",
       "    </tr>\n",
       "    <tr>\n",
       "      <th>6734</th>\n",
       "      <td>1</td>\n",
       "      <td>[{'role': 'system', 'content': 'En supposant q...</td>\n",
       "      <td>2999633</td>\n",
       "      <td>4967912</td>\n",
       "    </tr>\n",
       "    <tr>\n",
       "      <th>6819</th>\n",
       "      <td>5</td>\n",
       "      <td>[{'role': 'system', 'content': 'Act as a compu...</td>\n",
       "      <td>2999633</td>\n",
       "      <td>4198754</td>\n",
       "    </tr>\n",
       "    <tr>\n",
       "      <th>469</th>\n",
       "      <td>5</td>\n",
       "      <td>[{'role': 'system', 'content': 'Could you plea...</td>\n",
       "      <td>2999828</td>\n",
       "      <td>4834259</td>\n",
       "    </tr>\n",
       "    <tr>\n",
       "      <th>403</th>\n",
       "      <td>4</td>\n",
       "      <td>[{'role': 'system', 'content': 'From now on, y...</td>\n",
       "      <td>2999828</td>\n",
       "      <td>4823002</td>\n",
       "    </tr>\n",
       "    <tr>\n",
       "      <th>337</th>\n",
       "      <td>5</td>\n",
       "      <td>[{'role': 'system', 'content': 'I provide you ...</td>\n",
       "      <td>2999828</td>\n",
       "      <td>4113253</td>\n",
       "    </tr>\n",
       "  </tbody>\n",
       "</table>\n",
       "<p>10560 rows × 4 columns</p>\n",
       "</div>"
      ],
      "text/plain": [
       "      confidence                                        interaction   sol_id   \n",
       "2632           2  [{'role': 'system', 'content': 'Answer in engl...  1000851  \\\n",
       "2725           4  [{'role': 'system', 'content': 'You are a phys...  1000851   \n",
       "2395           4  [{'role': 'system', 'content': 'QCM'}, {'role'...  1001199   \n",
       "2575           5  [{'role': 'user', 'content': 'Pour encoder la ...  1001199   \n",
       "2485           4  [{'role': 'system', 'content': 'QCM'}, {'role'...  1001199   \n",
       "...          ...                                                ...      ...   \n",
       "6734           1  [{'role': 'system', 'content': 'En supposant q...  2999633   \n",
       "6819           5  [{'role': 'system', 'content': 'Act as a compu...  2999633   \n",
       "469            5  [{'role': 'system', 'content': 'Could you plea...  2999828   \n",
       "403            4  [{'role': 'system', 'content': 'From now on, y...  2999828   \n",
       "337            5  [{'role': 'system', 'content': 'I provide you ...  2999828   \n",
       "\n",
       "      interaction_id  \n",
       "2632         4747078  \n",
       "2725         4390722  \n",
       "2395         4967894  \n",
       "2575         4944321  \n",
       "2485         4039807  \n",
       "...              ...  \n",
       "6734         4967912  \n",
       "6819         4198754  \n",
       "469          4834259  \n",
       "403          4823002  \n",
       "337          4113253  \n",
       "\n",
       "[10560 rows x 4 columns]"
      ]
     },
     "execution_count": 49,
     "metadata": {},
     "output_type": "execute_result"
    }
   ],
   "source": [
    "# sort df_combined based on sol_id\n",
    "df_combined = df_combined.sort_values(by=[\"sol_id\"])\n",
    "df_combined"
   ]
  },
  {
   "attachments": {},
   "cell_type": "markdown",
   "metadata": {},
   "source": [
    "## create new json"
   ]
  },
  {
   "cell_type": "code",
   "execution_count": 50,
   "metadata": {},
   "outputs": [],
   "source": [
    "df_combined.to_json(\"interactions_v2.json\", orient=\"records\", indent=4)"
   ]
  }
 ],
 "metadata": {
  "kernelspec": {
   "display_name": "visual",
   "language": "python",
   "name": "python3"
  },
  "language_info": {
   "codemirror_mode": {
    "name": "ipython",
    "version": 3
   },
   "file_extension": ".py",
   "mimetype": "text/x-python",
   "name": "python",
   "nbconvert_exporter": "python",
   "pygments_lexer": "ipython3",
   "version": "3.9.16"
  },
  "orig_nbformat": 4
 },
 "nbformat": 4,
 "nbformat_minor": 2
}
